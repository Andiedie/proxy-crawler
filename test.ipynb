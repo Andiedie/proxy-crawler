{
 "cells": [
  {
   "cell_type": "code",
   "execution_count": 1,
   "metadata": {
    "collapsed": true
   },
   "outputs": [
    {
     "name": "stdout",
     "output_type": "stream",
     "text": [
      "200\n"
     ]
    }
   ],
   "source": [
    "import requests\n",
    "import uuid\n",
    "\n",
    "resp = requests.head('https://ipinfo.io')\n",
    "print(resp.status_code)"
   ]
  },
  {
   "cell_type": "code",
   "execution_count": 44,
   "outputs": [
    {
     "name": "stdout",
     "output_type": "stream",
     "text": [
      "200\n",
      "100000\n"
     ]
    }
   ],
   "source": [
    "resp = requests.get(f'http://speed.cloudflare.com/__down?measId={uuid.uuid4()}&bytes=100000', proxies={\n",
    "    'http': 'http://127.0.0.1:52860'\n",
    "}, headers={\n",
    "    'user-agent': 'outbound-7f70f417-42e5-42dd-ac47-15228b90118b'\n",
    "})\n",
    "print(resp.status_code)\n",
    "print(len(resp.text))"
   ],
   "metadata": {
    "collapsed": false,
    "pycharm": {
     "name": "#%%\n"
    }
   }
  },
  {
   "cell_type": "code",
   "execution_count": 34,
   "outputs": [
    {
     "name": "stdout",
     "output_type": "stream",
     "text": [
      "503\n"
     ]
    }
   ],
   "source": [
    "resp = requests.head('http://www.google.com/generate_204', proxies={\n",
    "    'http': 'http://127.0.0.1:1080'\n",
    "}, headers={\n",
    "    'user-agent': 'outbound-48e602b8-14f6-4509-bd81-91ae0bbb9d0e'\n",
    "})\n",
    "print(resp.status_code)"
   ],
   "metadata": {
    "collapsed": false,
    "pycharm": {
     "name": "#%%\n"
    }
   }
  },
  {
   "cell_type": "code",
   "execution_count": 15,
   "outputs": [
    {
     "name": "stdout",
     "output_type": "stream",
     "text": [
      "1 second\n",
      "finally\n"
     ]
    }
   ],
   "source": [
    "import gevent.timeout\n",
    "from gevent import monkey\n",
    "monkey.patch_socket()\n",
    "\n",
    "timeout = gevent.Timeout(1)\n",
    "timeout.start()\n",
    "\n",
    "try:\n",
    "    resp = requests.get(f'http://speed.cloudflare.com/__down?measId={uuid.uuid4()}&bytes=31457280')\n",
    "    print(len(resp.text))\n",
    "except gevent.Timeout as e:\n",
    "    print(e)\n",
    "finally:\n",
    "    print('finally')\n",
    "    timeout.close()"
   ],
   "metadata": {
    "collapsed": false,
    "pycharm": {
     "name": "#%%\n"
    }
   }
  },
  {
   "cell_type": "code",
   "execution_count": null,
   "outputs": [],
   "source": [],
   "metadata": {
    "collapsed": false,
    "pycharm": {
     "name": "#%%\n"
    }
   }
  }
 ],
 "metadata": {
  "kernelspec": {
   "display_name": "Python 3",
   "language": "python",
   "name": "python3"
  },
  "language_info": {
   "codemirror_mode": {
    "name": "ipython",
    "version": 2
   },
   "file_extension": ".py",
   "mimetype": "text/x-python",
   "name": "python",
   "nbconvert_exporter": "python",
   "pygments_lexer": "ipython2",
   "version": "2.7.6"
  }
 },
 "nbformat": 4,
 "nbformat_minor": 0
}